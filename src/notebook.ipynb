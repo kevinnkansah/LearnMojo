{
 "cells": [
  {
   "cell_type": "code",
   "execution_count": 5,
   "metadata": {},
   "outputs": [],
   "source": [
    "fn add(x : Int, y : Int) -> Int:\n",
    "    return x + y"
   ]
  },
  {
   "cell_type": "code",
   "execution_count": 6,
   "metadata": {},
   "outputs": [],
   "source": [
    "fn sub(x : Int, y : Int) -> Int:\n",
    "    return x - y"
   ]
  },
  {
   "cell_type": "code",
   "execution_count": 8,
   "metadata": {},
   "outputs": [
    {
     "name": "stdout",
     "output_type": "stream",
     "text": [
      "23\n"
     ]
    }
   ],
   "source": [
    "fn main():\n",
    "    let x = add(9,8)\n",
    "    let y = sub(23, 17)\n",
    "\n",
    "    let k = add(x, y)\n",
    "\n",
    "    print(k)\n",
    "    \n",
    "main()"
   ]
  },
  {
   "cell_type": "code",
   "execution_count": 7,
   "metadata": {},
   "outputs": [
    {
     "name": "stdout",
     "output_type": "stream",
     "text": [
      "hello\n"
     ]
    }
   ],
   "source": [
    "print(\"hello\")"
   ]
  },
  {
   "cell_type": "code",
   "execution_count": 9,
   "metadata": {},
   "outputs": [
    {
     "name": "stdout",
     "output_type": "stream",
     "text": [
      "Error: An error occurred in Python.\n"
     ]
    }
   ],
   "source": [
    "from python import Python\n",
    "\n",
    "let np = Python.import_module(\"numpy\").pyObject\n",
    "let pd = Python.import_module(\"pandas\").pyObject\n",
    "let plt = Python.import_module(\"matplotlib.pyplot\").pyObject"
   ]
  },
  {
   "cell_type": "code",
   "execution_count": 1,
   "metadata": {},
   "outputs": [
    {
     "name": "stdout",
     "output_type": "stream",
     "text": [
      "Error: An error occurred in Python.\n"
     ]
    }
   ],
   "source": [
    "from python import Python\n",
    "\n",
    "fn main() raises:\n",
    "    \n",
    "\n",
    "    let np = Python.import_module(\"numpy\")\n",
    "    let pd = Python.import_module(\"pandas\")\n",
    "    let plt = Python.import_module(\"matplotlib.pyplot\")\n",
    "\n",
    "    let df = pd.read_csv(\"kobe_basket.csv\")\n",
    "\n",
    "main()    "
   ]
  },
  {
   "cell_type": "code",
   "execution_count": null,
   "metadata": {},
   "outputs": [],
   "source": [
    "# Dict in Mojo\n",
    "from python import Python\n",
    "from python.object import PythonObject\n",
    "\n",
    "var dictionary = Python.dict()\n",
    "\n",
    "dictionary[\"fruit\"] = \"apple\"\n",
    "dictionary[\"starch\"] = \"potato\"\n",
    "\n",
    "var keys: PythonObject = [\"fruit\", \"starch\", \"protein\"]\n",
    "var N: Int = keys.__len__().__index__()\n",
    "print(N, \"items\")\n",
    "\n",
    "for i in range(N):\n",
    " if Python.is_type(dictionary.get(keys[i]), Python.none()):\n",
    "    print(keys[i], \"is not in dictionary\")\n",
    " else:\n",
    "    print(keys[i], \"is included\")"
   ]
  }
 ],
 "metadata": {
  "kernelspec": {
   "display_name": "Mojo",
   "language": "mojo",
   "name": "mojo-jupyter-kernel"
  },
  "language_info": {
   "codemirror_mode": {
    "name": "mojo"
   },
   "file_extension": ".mojo",
   "mimetype": "text/x-mojo",
   "name": "mojo"
  },
  "orig_nbformat": 4
 },
 "nbformat": 4,
 "nbformat_minor": 2
}
